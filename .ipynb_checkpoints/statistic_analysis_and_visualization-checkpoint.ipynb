{
 "cells": [
  {
   "cell_type": "markdown",
   "id": "52324eae",
   "metadata": {},
   "source": [
    "# 산불 발생 데이터 분석 및 시각화\n",
    "## 산불이 발생 했을 때의 수치형 데이터들의 분석"
   ]
  },
  {
   "cell_type": "code",
   "execution_count": 2,
   "id": "bf78c08a",
   "metadata": {},
   "outputs": [
    {
     "data": {
      "text/plain": [
       "'%.3f'"
      ]
     },
     "execution_count": 2,
     "metadata": {},
     "output_type": "execute_result"
    }
   ],
   "source": [
    "import pandas as pd\n",
    "import numpy as np\n",
    "%precision 3"
   ]
  },
  {
   "cell_type": "markdown",
   "id": "bcd6d431",
   "metadata": {},
   "source": [
    "## 먼저 각각 분리되어있던 최종 학습 데이터셋 통합"
   ]
  },
  {
   "cell_type": "code",
   "execution_count": 22,
   "id": "2bb9fda6",
   "metadata": {},
   "outputs": [],
   "source": [
    "# df = pd.read_csv('wildfire_his.csv')\n",
    "# part_1 = pd.read_csv('final_training_data_2000_2003.csv')\n",
    "# part_2 = pd.read_csv('final_training_data_2004_2011.csv')\n",
    "# part_3 = pd.read_csv('2012-2014,학습데이터.csv')"
   ]
  },
  {
   "cell_type": "code",
   "execution_count": 27,
   "id": "7e56bae4",
   "metadata": {},
   "outputs": [],
   "source": [
    "# 양적 변수 Quantitative variable\n",
    "part_1 = part_1[['일시','지점명','기온','강수량','풍속','풍향','습도','실효습도','label']]"
   ]
  },
  {
   "cell_type": "code",
   "execution_count": 28,
   "id": "86bd53d2",
   "metadata": {},
   "outputs": [],
   "source": [
    "part_2 = part_2[['tm','stnNm','ta','rn','ws','wd','hm','실효습도','label']]\n",
    "part_2.columns = ['일시','지점명','기온','강수량','풍속','풍향','습도','실효습도','label']"
   ]
  },
  {
   "cell_type": "code",
   "execution_count": 30,
   "id": "f17cc794",
   "metadata": {},
   "outputs": [
    {
     "data": {
      "text/html": [
       "<div>\n",
       "<style scoped>\n",
       "    .dataframe tbody tr th:only-of-type {\n",
       "        vertical-align: middle;\n",
       "    }\n",
       "\n",
       "    .dataframe tbody tr th {\n",
       "        vertical-align: top;\n",
       "    }\n",
       "\n",
       "    .dataframe thead th {\n",
       "        text-align: right;\n",
       "    }\n",
       "</style>\n",
       "<table border=\"1\" class=\"dataframe\">\n",
       "  <thead>\n",
       "    <tr style=\"text-align: right;\">\n",
       "      <th></th>\n",
       "      <th>일시</th>\n",
       "      <th>지점명</th>\n",
       "      <th>기온</th>\n",
       "      <th>강수량</th>\n",
       "      <th>풍속</th>\n",
       "      <th>풍향</th>\n",
       "      <th>습도</th>\n",
       "      <th>실효습도</th>\n",
       "      <th>label</th>\n",
       "    </tr>\n",
       "  </thead>\n",
       "  <tbody>\n",
       "    <tr>\n",
       "      <th>0</th>\n",
       "      <td>2000-01-01 03:00</td>\n",
       "      <td>서울</td>\n",
       "      <td>-0.6</td>\n",
       "      <td>0.0</td>\n",
       "      <td>4.6</td>\n",
       "      <td>142.7</td>\n",
       "      <td>0.0</td>\n",
       "      <td>62.70</td>\n",
       "      <td>0</td>\n",
       "    </tr>\n",
       "    <tr>\n",
       "      <th>1</th>\n",
       "      <td>2000-01-01 03:00</td>\n",
       "      <td>서울</td>\n",
       "      <td>2.2</td>\n",
       "      <td>0.0</td>\n",
       "      <td>1.2</td>\n",
       "      <td>84.6</td>\n",
       "      <td>0.0</td>\n",
       "      <td>62.70</td>\n",
       "      <td>0</td>\n",
       "    </tr>\n",
       "    <tr>\n",
       "      <th>2</th>\n",
       "      <td>2000-01-01 03:00</td>\n",
       "      <td>서울</td>\n",
       "      <td>2.6</td>\n",
       "      <td>0.0</td>\n",
       "      <td>0.2</td>\n",
       "      <td>0.0</td>\n",
       "      <td>0.0</td>\n",
       "      <td>62.70</td>\n",
       "      <td>0</td>\n",
       "    </tr>\n",
       "    <tr>\n",
       "      <th>3</th>\n",
       "      <td>2000-01-01 03:00</td>\n",
       "      <td>서울</td>\n",
       "      <td>0.5</td>\n",
       "      <td>0.0</td>\n",
       "      <td>0.5</td>\n",
       "      <td>68.9</td>\n",
       "      <td>0.0</td>\n",
       "      <td>62.70</td>\n",
       "      <td>0</td>\n",
       "    </tr>\n",
       "    <tr>\n",
       "      <th>4</th>\n",
       "      <td>2000-01-01 03:00</td>\n",
       "      <td>서울</td>\n",
       "      <td>2.7</td>\n",
       "      <td>0.0</td>\n",
       "      <td>0.6</td>\n",
       "      <td>33.3</td>\n",
       "      <td>0.0</td>\n",
       "      <td>62.70</td>\n",
       "      <td>0</td>\n",
       "    </tr>\n",
       "    <tr>\n",
       "      <th>...</th>\n",
       "      <td>...</td>\n",
       "      <td>...</td>\n",
       "      <td>...</td>\n",
       "      <td>...</td>\n",
       "      <td>...</td>\n",
       "      <td>...</td>\n",
       "      <td>...</td>\n",
       "      <td>...</td>\n",
       "      <td>...</td>\n",
       "    </tr>\n",
       "    <tr>\n",
       "      <th>1967383</th>\n",
       "      <td>2014-06-19 19:00</td>\n",
       "      <td>남해</td>\n",
       "      <td>24.5</td>\n",
       "      <td>NaN</td>\n",
       "      <td>0.9</td>\n",
       "      <td>270.0</td>\n",
       "      <td>67.0</td>\n",
       "      <td>54.27</td>\n",
       "      <td>0</td>\n",
       "    </tr>\n",
       "    <tr>\n",
       "      <th>1967384</th>\n",
       "      <td>2014-06-19 20:00</td>\n",
       "      <td>남해</td>\n",
       "      <td>22.3</td>\n",
       "      <td>NaN</td>\n",
       "      <td>0.9</td>\n",
       "      <td>250.0</td>\n",
       "      <td>79.0</td>\n",
       "      <td>61.35</td>\n",
       "      <td>0</td>\n",
       "    </tr>\n",
       "    <tr>\n",
       "      <th>1967385</th>\n",
       "      <td>2014-06-19 21:00</td>\n",
       "      <td>남해</td>\n",
       "      <td>21.5</td>\n",
       "      <td>NaN</td>\n",
       "      <td>0.7</td>\n",
       "      <td>250.0</td>\n",
       "      <td>78.0</td>\n",
       "      <td>64.00</td>\n",
       "      <td>0</td>\n",
       "    </tr>\n",
       "    <tr>\n",
       "      <th>1967386</th>\n",
       "      <td>2014-06-19 22:00</td>\n",
       "      <td>남해</td>\n",
       "      <td>21.5</td>\n",
       "      <td>NaN</td>\n",
       "      <td>1.2</td>\n",
       "      <td>250.0</td>\n",
       "      <td>79.0</td>\n",
       "      <td>64.21</td>\n",
       "      <td>0</td>\n",
       "    </tr>\n",
       "    <tr>\n",
       "      <th>1967387</th>\n",
       "      <td>2014-06-19 23:00</td>\n",
       "      <td>남해</td>\n",
       "      <td>20.8</td>\n",
       "      <td>NaN</td>\n",
       "      <td>0.5</td>\n",
       "      <td>250.0</td>\n",
       "      <td>84.0</td>\n",
       "      <td>66.57</td>\n",
       "      <td>0</td>\n",
       "    </tr>\n",
       "  </tbody>\n",
       "</table>\n",
       "<p>20484844 rows × 9 columns</p>\n",
       "</div>"
      ],
      "text/plain": [
       "                       일시 지점명    기온  강수량   풍속     풍향    습도   실효습도  label\n",
       "0        2000-01-01 03:00  서울  -0.6  0.0  4.6  142.7   0.0  62.70      0\n",
       "1        2000-01-01 03:00  서울   2.2  0.0  1.2   84.6   0.0  62.70      0\n",
       "2        2000-01-01 03:00  서울   2.6  0.0  0.2    0.0   0.0  62.70      0\n",
       "3        2000-01-01 03:00  서울   0.5  0.0  0.5   68.9   0.0  62.70      0\n",
       "4        2000-01-01 03:00  서울   2.7  0.0  0.6   33.3   0.0  62.70      0\n",
       "...                   ...  ..   ...  ...  ...    ...   ...    ...    ...\n",
       "1967383  2014-06-19 19:00  남해  24.5  NaN  0.9  270.0  67.0  54.27      0\n",
       "1967384  2014-06-19 20:00  남해  22.3  NaN  0.9  250.0  79.0  61.35      0\n",
       "1967385  2014-06-19 21:00  남해  21.5  NaN  0.7  250.0  78.0  64.00      0\n",
       "1967386  2014-06-19 22:00  남해  21.5  NaN  1.2  250.0  79.0  64.21      0\n",
       "1967387  2014-06-19 23:00  남해  20.8  NaN  0.5  250.0  84.0  66.57      0\n",
       "\n",
       "[20484844 rows x 9 columns]"
      ]
     },
     "execution_count": 30,
     "metadata": {},
     "output_type": "execute_result"
    }
   ],
   "source": [
    "# combined_parts = pd.concat([part_1, part_2, part_3])\n",
    "# combined_parts"
   ]
  },
  {
   "cell_type": "code",
   "execution_count": 31,
   "id": "f1c22bba",
   "metadata": {},
   "outputs": [],
   "source": [
    "#combined_parts.to_csv('combined_training_data_final.csv')"
   ]
  },
  {
   "cell_type": "code",
   "execution_count": 3,
   "id": "3004b425",
   "metadata": {},
   "outputs": [
    {
     "name": "stderr",
     "output_type": "stream",
     "text": [
      "C:\\Users\\yujeyeong\\AppData\\Local\\Temp\\ipykernel_18024\\3278364655.py:1: DtypeWarning: Columns (1) have mixed types. Specify dtype option on import or set low_memory=False.\n",
      "  combined_parts = pd.read_csv('combined_training_data_final.csv')\n"
     ]
    }
   ],
   "source": [
    "combined_parts = pd.read_csv('combined_training_data_final.csv')"
   ]
  },
  {
   "cell_type": "markdown",
   "id": "1b513ca1",
   "metadata": {},
   "source": [
    "## Two-Sample problem : 독립비교 t 검정(independent t-test)\n",
    "\n",
    "1. Null Hypothesis : weather conditions don't affect wildfire occurence\n",
    "2. Alternative Hypothesis : weather conditions affect wildfire occurence\n",
    "\n",
    "- compared variables\n",
    "    - temperature\n",
    "    - amount of precipitation\n",
    "    - wind speed\n",
    "    - relative humidity\n",
    "    - effective humidity\n",
    "    \n",
    "* ***wind direction is not quantitative variable***"
   ]
  },
  {
   "cell_type": "code",
   "execution_count": 4,
   "id": "01fa1de8",
   "metadata": {},
   "outputs": [],
   "source": [
    "from scipy import stats\n",
    "import seaborn as sns\n",
    "import matplotlib.pyplot as plt\n",
    "from scipy.stats import ks_2samp\n",
    "plt.rcParams['font.family'] = 'NanumGothic'"
   ]
  },
  {
   "cell_type": "markdown",
   "id": "32f4d3cf",
   "metadata": {},
   "source": [
    "### 기온 기술통계"
   ]
  },
  {
   "cell_type": "code",
   "execution_count": 68,
   "id": "ada36042",
   "metadata": {},
   "outputs": [
    {
     "data": {
      "text/html": [
       "<div>\n",
       "<style scoped>\n",
       "    .dataframe tbody tr th:only-of-type {\n",
       "        vertical-align: middle;\n",
       "    }\n",
       "\n",
       "    .dataframe tbody tr th {\n",
       "        vertical-align: top;\n",
       "    }\n",
       "\n",
       "    .dataframe thead th {\n",
       "        text-align: right;\n",
       "    }\n",
       "</style>\n",
       "<table border=\"1\" class=\"dataframe\">\n",
       "  <thead>\n",
       "    <tr style=\"text-align: right;\">\n",
       "      <th></th>\n",
       "      <th>label</th>\n",
       "      <th>기온</th>\n",
       "    </tr>\n",
       "  </thead>\n",
       "  <tbody>\n",
       "    <tr>\n",
       "      <th>count</th>\n",
       "      <td>2.043904e+07</td>\n",
       "      <td>2.043904e+07</td>\n",
       "    </tr>\n",
       "    <tr>\n",
       "      <th>mean</th>\n",
       "      <td>9.722569e-04</td>\n",
       "      <td>1.238964e+01</td>\n",
       "    </tr>\n",
       "    <tr>\n",
       "      <th>std</th>\n",
       "      <td>3.116587e-02</td>\n",
       "      <td>1.031035e+01</td>\n",
       "    </tr>\n",
       "    <tr>\n",
       "      <th>min</th>\n",
       "      <td>0.000000e+00</td>\n",
       "      <td>-3.270000e+01</td>\n",
       "    </tr>\n",
       "    <tr>\n",
       "      <th>25%</th>\n",
       "      <td>0.000000e+00</td>\n",
       "      <td>4.100000e+00</td>\n",
       "    </tr>\n",
       "    <tr>\n",
       "      <th>50%</th>\n",
       "      <td>0.000000e+00</td>\n",
       "      <td>1.320000e+01</td>\n",
       "    </tr>\n",
       "    <tr>\n",
       "      <th>75%</th>\n",
       "      <td>0.000000e+00</td>\n",
       "      <td>2.100000e+01</td>\n",
       "    </tr>\n",
       "    <tr>\n",
       "      <th>max</th>\n",
       "      <td>1.000000e+00</td>\n",
       "      <td>2.690000e+02</td>\n",
       "    </tr>\n",
       "  </tbody>\n",
       "</table>\n",
       "</div>"
      ],
      "text/plain": [
       "              label            기온\n",
       "count  2.043904e+07  2.043904e+07\n",
       "mean   9.722569e-04  1.238964e+01\n",
       "std    3.116587e-02  1.031035e+01\n",
       "min    0.000000e+00 -3.270000e+01\n",
       "25%    0.000000e+00  4.100000e+00\n",
       "50%    0.000000e+00  1.320000e+01\n",
       "75%    0.000000e+00  2.100000e+01\n",
       "max    1.000000e+00  2.690000e+02"
      ]
     },
     "execution_count": 68,
     "metadata": {},
     "output_type": "execute_result"
    }
   ],
   "source": [
    "\n",
    "\n",
    "# temperature\n",
    "# delete blank row in dataframe\n",
    "# decimal point set until 3\n",
    "df_temperature = combined_parts.dropna(subset=['기온'])\n",
    "df_des = df_temperature[['label','기온']]\n",
    "df_des.describe()"
   ]
  },
  {
   "cell_type": "markdown",
   "id": "1309ab30",
   "metadata": {},
   "source": [
    "### boxplot(기온)"
   ]
  },
  {
   "cell_type": "code",
   "execution_count": 71,
   "id": "eec46451",
   "metadata": {},
   "outputs": [
    {
     "data": {
      "text/plain": [
       "<AxesSubplot:xlabel='label', ylabel='기온'>"
      ]
     },
     "execution_count": 71,
     "metadata": {},
     "output_type": "execute_result"
    },
    {
     "data": {
      "image/png": "[encoded data removed]",
      "text/plain": [
       "<Figure size 432x288 with 1 Axes>"
      ]
     },
     "metadata": {
      "needs_background": "light"
     },
     "output_type": "display_data"
    }
   ],
   "source": [
    "sns.boxplot(x='label', y='기온', hue='label', data = df_temperature, palette = 'Set3')\n"
   ]
  },
  {
   "cell_type": "markdown",
   "id": "8a4f08f0",
   "metadata": {},
   "source": [
    "### 정규성 확인\n",
    "\n",
    "- Shapiro-Wilk test와 Kolmogorov-Smirnov test\n",
    "- 표본의 개수가 2000개 이상이므로, Kolmogorov-Smirnov test 진행"
   ]
  },
  {
   "cell_type": "code",
   "execution_count": 9,
   "id": "33ed557a",
   "metadata": {},
   "outputs": [],
   "source": [
    "np.random.seed(12345678)\n",
    "x = np.random.normal(0, 1, 1000)"
   ]
  },
  {
   "cell_type": "code",
   "execution_count": 78,
   "id": "b91049e9",
   "metadata": {},
   "outputs": [
    {
     "data": {
      "text/plain": [
       "KstestResult(statistic=0.7925461940911408, pvalue=0.0)"
      ]
     },
     "execution_count": 78,
     "metadata": {},
     "output_type": "execute_result"
    }
   ],
   "source": [
    "ks_2samp(df_des[df_des['label']==0]['기온'], x)"
   ]
  },
  {
   "cell_type": "code",
   "execution_count": 79,
   "id": "8cf5f313",
   "metadata": {},
   "outputs": [
    {
     "data": {
      "text/plain": [
       "KstestResult(statistic=0.8919404186795491, pvalue=0.0)"
      ]
     },
     "execution_count": 79,
     "metadata": {},
     "output_type": "execute_result"
    }
   ],
   "source": [
    "ks_2samp(df_des[df_des['label']==1]['기온'], x)"
   ]
  },
  {
   "cell_type": "markdown",
   "id": "7c63c12e",
   "metadata": {},
   "source": [
    "- p-value가 유의수준에 도달하지 않기 때문에 해당 표본의 모집단은 정규성을 띄지 않는다\n",
    "- 따라서 Mann-Whitny rank test 진행"
   ]
  },
  {
   "cell_type": "code",
   "execution_count": 76,
   "id": "8f256e84",
   "metadata": {},
   "outputs": [
    {
     "data": {
      "text/plain": [
       "0.000"
      ]
     },
     "execution_count": 76,
     "metadata": {},
     "output_type": "execute_result"
    }
   ],
   "source": [
    "u, p = stats.mannwhitneyu(df_temperature[df_temperature['label']==1]['기온'], df_temperature[df_temperature['label']==0]['기온'],alternative='two-sided')\n",
    "p"
   ]
  },
  {
   "cell_type": "markdown",
   "id": "f2a34034",
   "metadata": {},
   "source": [
    "***산불 발생 유무에 따른 기온의 중앙값에 대해 차이가 유의수준 .005 이하에서 유의하다***"
   ]
  },
  {
   "cell_type": "markdown",
   "id": "c69e7a48",
   "metadata": {},
   "source": [
    "### 강수량 기술통계"
   ]
  },
  {
   "cell_type": "code",
   "execution_count": 80,
   "id": "5e47c9f1",
   "metadata": {},
   "outputs": [
    {
     "data": {
      "text/html": [
       "<div>\n",
       "<style scoped>\n",
       "    .dataframe tbody tr th:only-of-type {\n",
       "        vertical-align: middle;\n",
       "    }\n",
       "\n",
       "    .dataframe tbody tr th {\n",
       "        vertical-align: top;\n",
       "    }\n",
       "\n",
       "    .dataframe thead th {\n",
       "        text-align: right;\n",
       "    }\n",
       "</style>\n",
       "<table border=\"1\" class=\"dataframe\">\n",
       "  <thead>\n",
       "    <tr style=\"text-align: right;\">\n",
       "      <th></th>\n",
       "      <th>label</th>\n",
       "      <th>강수량</th>\n",
       "    </tr>\n",
       "  </thead>\n",
       "  <tbody>\n",
       "    <tr>\n",
       "      <th>count</th>\n",
       "      <td>1.361181e+07</td>\n",
       "      <td>1.361181e+07</td>\n",
       "    </tr>\n",
       "    <tr>\n",
       "      <th>mean</th>\n",
       "      <td>1.220485e-03</td>\n",
       "      <td>2.290901e-01</td>\n",
       "    </tr>\n",
       "    <tr>\n",
       "      <th>std</th>\n",
       "      <td>3.491411e-02</td>\n",
       "      <td>1.453348e+00</td>\n",
       "    </tr>\n",
       "    <tr>\n",
       "      <th>min</th>\n",
       "      <td>0.000000e+00</td>\n",
       "      <td>0.000000e+00</td>\n",
       "    </tr>\n",
       "    <tr>\n",
       "      <th>25%</th>\n",
       "      <td>0.000000e+00</td>\n",
       "      <td>0.000000e+00</td>\n",
       "    </tr>\n",
       "    <tr>\n",
       "      <th>50%</th>\n",
       "      <td>0.000000e+00</td>\n",
       "      <td>0.000000e+00</td>\n",
       "    </tr>\n",
       "    <tr>\n",
       "      <th>75%</th>\n",
       "      <td>0.000000e+00</td>\n",
       "      <td>0.000000e+00</td>\n",
       "    </tr>\n",
       "    <tr>\n",
       "      <th>max</th>\n",
       "      <td>1.000000e+00</td>\n",
       "      <td>1.055000e+02</td>\n",
       "    </tr>\n",
       "  </tbody>\n",
       "</table>\n",
       "</div>"
      ],
      "text/plain": [
       "              label           강수량\n",
       "count  1.361181e+07  1.361181e+07\n",
       "mean   1.220485e-03  2.290901e-01\n",
       "std    3.491411e-02  1.453348e+00\n",
       "min    0.000000e+00  0.000000e+00\n",
       "25%    0.000000e+00  0.000000e+00\n",
       "50%    0.000000e+00  0.000000e+00\n",
       "75%    0.000000e+00  0.000000e+00\n",
       "max    1.000000e+00  1.055000e+02"
      ]
     },
     "execution_count": 80,
     "metadata": {},
     "output_type": "execute_result"
    }
   ],
   "source": [
    "# amount of precipatation\n",
    "df_rn = combined_parts.dropna(subset=['강수량'])\n",
    "df_des=df_rn[['label','강수량']]\n",
    "df_des.describe()"
   ]
  },
  {
   "cell_type": "markdown",
   "id": "1a5a769d",
   "metadata": {},
   "source": [
    "### boxplot(강수량)"
   ]
  },
  {
   "cell_type": "code",
   "execution_count": 81,
   "id": "27f57d22",
   "metadata": {},
   "outputs": [
    {
     "data": {
      "text/plain": [
       "<AxesSubplot:xlabel='label', ylabel='강수량'>"
      ]
     },
     "execution_count": 81,
     "metadata": {},
     "output_type": "execute_result"
    },
    {
     "data": {
      "image/png": "[encoded data removed]",
      "text/plain": [
       "<Figure size 432x288 with 1 Axes>"
      ]
     },
     "metadata": {
      "needs_background": "light"
     },
     "output_type": "display_data"
    }
   ],
   "source": [
    "sns.boxplot(x='label', y='강수량', hue='label', data = df_rn, palette = 'Set3')"
   ]
  },
  {
   "cell_type": "markdown",
   "id": "84cd84b3",
   "metadata": {},
   "source": [
    "### 정규성 확인"
   ]
  },
  {
   "cell_type": "code",
   "execution_count": 82,
   "id": "11ef2817",
   "metadata": {},
   "outputs": [
    {
     "data": {
      "text/plain": [
       "KstestResult(statistic=0.496, pvalue=9.301646788241219e-228)"
      ]
     },
     "execution_count": 82,
     "metadata": {},
     "output_type": "execute_result"
    }
   ],
   "source": [
    "ks_2samp(df_des[df_des['label']==0]['강수량'], x)"
   ]
  },
  {
   "cell_type": "code",
   "execution_count": 83,
   "id": "a252e75f",
   "metadata": {},
   "outputs": [
    {
     "data": {
      "text/plain": [
       "KstestResult(statistic=0.501953409980136, pvalue=2.36992581054463e-220)"
      ]
     },
     "execution_count": 83,
     "metadata": {},
     "output_type": "execute_result"
    }
   ],
   "source": [
    "ks_2samp(df_des[df_des['label']==1]['강수량'], x)"
   ]
  },
  {
   "cell_type": "markdown",
   "id": "d25f4cc4",
   "metadata": {},
   "source": [
    "- 정규성을 띄지 않아 Mann-Whitny rank test 진행"
   ]
  },
  {
   "cell_type": "code",
   "execution_count": 84,
   "id": "49929dd6",
   "metadata": {},
   "outputs": [
    {
     "data": {
      "text/plain": [
       "0.000"
      ]
     },
     "execution_count": 84,
     "metadata": {},
     "output_type": "execute_result"
    }
   ],
   "source": [
    "u, p = stats.mannwhitneyu(df_rn[df_rn['label']==1]['강수량'], df_rn[df_rn['label']==0]['강수량'],alternative='two-sided')\n",
    "p"
   ]
  },
  {
   "cell_type": "markdown",
   "id": "b255776a",
   "metadata": {},
   "source": [
    "***산불 발생 유무에 따른 강수량의 중앙값에 대해 차이가 유의수준 .005 이하에서 유의하다***"
   ]
  },
  {
   "cell_type": "markdown",
   "id": "85a251b5",
   "metadata": {},
   "source": [
    "## 풍속 기술통계"
   ]
  },
  {
   "cell_type": "code",
   "execution_count": 5,
   "id": "e8457c07",
   "metadata": {},
   "outputs": [
    {
     "data": {
      "text/html": [
       "<div>\n",
       "<style scoped>\n",
       "    .dataframe tbody tr th:only-of-type {\n",
       "        vertical-align: middle;\n",
       "    }\n",
       "\n",
       "    .dataframe tbody tr th {\n",
       "        vertical-align: top;\n",
       "    }\n",
       "\n",
       "    .dataframe thead th {\n",
       "        text-align: right;\n",
       "    }\n",
       "</style>\n",
       "<table border=\"1\" class=\"dataframe\">\n",
       "  <thead>\n",
       "    <tr style=\"text-align: right;\">\n",
       "      <th></th>\n",
       "      <th>label</th>\n",
       "      <th>풍속</th>\n",
       "    </tr>\n",
       "  </thead>\n",
       "  <tbody>\n",
       "    <tr>\n",
       "      <th>count</th>\n",
       "      <td>2.018848e+07</td>\n",
       "      <td>2.018848e+07</td>\n",
       "    </tr>\n",
       "    <tr>\n",
       "      <th>mean</th>\n",
       "      <td>9.735751e-04</td>\n",
       "      <td>2.043407e+00</td>\n",
       "    </tr>\n",
       "    <tr>\n",
       "      <th>std</th>\n",
       "      <td>3.118697e-02</td>\n",
       "      <td>1.970387e+00</td>\n",
       "    </tr>\n",
       "    <tr>\n",
       "      <th>min</th>\n",
       "      <td>0.000000e+00</td>\n",
       "      <td>0.000000e+00</td>\n",
       "    </tr>\n",
       "    <tr>\n",
       "      <th>25%</th>\n",
       "      <td>0.000000e+00</td>\n",
       "      <td>6.000000e-01</td>\n",
       "    </tr>\n",
       "    <tr>\n",
       "      <th>50%</th>\n",
       "      <td>0.000000e+00</td>\n",
       "      <td>1.600000e+00</td>\n",
       "    </tr>\n",
       "    <tr>\n",
       "      <th>75%</th>\n",
       "      <td>0.000000e+00</td>\n",
       "      <td>2.900000e+00</td>\n",
       "    </tr>\n",
       "    <tr>\n",
       "      <th>max</th>\n",
       "      <td>1.000000e+00</td>\n",
       "      <td>6.010000e+01</td>\n",
       "    </tr>\n",
       "  </tbody>\n",
       "</table>\n",
       "</div>"
      ],
      "text/plain": [
       "              label            풍속\n",
       "count  2.018848e+07  2.018848e+07\n",
       "mean   9.735751e-04  2.043407e+00\n",
       "std    3.118697e-02  1.970387e+00\n",
       "min    0.000000e+00  0.000000e+00\n",
       "25%    0.000000e+00  6.000000e-01\n",
       "50%    0.000000e+00  1.600000e+00\n",
       "75%    0.000000e+00  2.900000e+00\n",
       "max    1.000000e+00  6.010000e+01"
      ]
     },
     "execution_count": 5,
     "metadata": {},
     "output_type": "execute_result"
    }
   ],
   "source": [
    "# wind speed\n",
    "df_ws = combined_parts.dropna(subset=['풍속'])\n",
    "df_des = df_ws[['label','풍속']]\n",
    "df_des.describe()"
   ]
  },
  {
   "cell_type": "code",
   "execution_count": 7,
   "id": "c2a8f9a5",
   "metadata": {},
   "outputs": [
    {
     "data": {
      "text/plain": [
       "<AxesSubplot:xlabel='label', ylabel='풍속'>"
      ]
     },
     "execution_count": 7,
     "metadata": {},
     "output_type": "execute_result"
    },
    {
     "data": {
      "image/png": "[encoded data removed]",
      "text/plain": [
       "<Figure size 432x288 with 1 Axes>"
      ]
     },
     "metadata": {
      "needs_background": "light"
     },
     "output_type": "display_data"
    }
   ],
   "source": [
    "sns.boxplot(x='label', y='풍속', hue='label', data = df_ws, palette = 'Set3')"
   ]
  },
  {
   "cell_type": "markdown",
   "id": "f6bf4d9c",
   "metadata": {},
   "source": [
    "### 정규성 확인"
   ]
  },
  {
   "cell_type": "code",
   "execution_count": 10,
   "id": "13f235b6",
   "metadata": {},
   "outputs": [
    {
     "data": {
      "text/plain": [
       "KstestResult(statistic=0.496, pvalue=9.301646788241219e-228)"
      ]
     },
     "execution_count": 10,
     "metadata": {},
     "output_type": "execute_result"
    }
   ],
   "source": [
    "ks_2samp(df_des[df_des['label']==0]['풍속'], x)"
   ]
  },
  {
   "cell_type": "code",
   "execution_count": 11,
   "id": "3996b965",
   "metadata": {},
   "outputs": [
    {
     "data": {
      "text/plain": [
       "KstestResult(statistic=0.7430320529127449, pvalue=0.0)"
      ]
     },
     "execution_count": 11,
     "metadata": {},
     "output_type": "execute_result"
    }
   ],
   "source": [
    "ks_2samp(df_des[df_des['label']==1]['풍속'], x)"
   ]
  },
  {
   "cell_type": "markdown",
   "id": "285f00d3",
   "metadata": {},
   "source": [
    "- 정규성을 띄지 않아 Mann-Whitny rank test 진행"
   ]
  },
  {
   "cell_type": "code",
   "execution_count": 12,
   "id": "81fe86c2",
   "metadata": {},
   "outputs": [
    {
     "data": {
      "text/plain": [
       "0.000"
      ]
     },
     "execution_count": 12,
     "metadata": {},
     "output_type": "execute_result"
    }
   ],
   "source": [
    "u, p = stats.mannwhitneyu(df_ws[df_ws['label']==1]['풍속'], df_ws[df_ws['label']==0]['풍속'],alternative='two-sided')\n",
    "p"
   ]
  },
  {
   "cell_type": "markdown",
   "id": "d62f8f42",
   "metadata": {},
   "source": [
    "***산불 발생 유무에 따른 풍속의 중앙값에 대해 차이가 유의수준 .005 이하에서 유의하다***"
   ]
  },
  {
   "cell_type": "markdown",
   "id": "d9d5c8b0",
   "metadata": {},
   "source": [
    "## 상대습도 기술통계"
   ]
  },
  {
   "cell_type": "code",
   "execution_count": 13,
   "id": "1f8f2630",
   "metadata": {},
   "outputs": [
    {
     "data": {
      "text/html": [
       "<div>\n",
       "<style scoped>\n",
       "    .dataframe tbody tr th:only-of-type {\n",
       "        vertical-align: middle;\n",
       "    }\n",
       "\n",
       "    .dataframe tbody tr th {\n",
       "        vertical-align: top;\n",
       "    }\n",
       "\n",
       "    .dataframe thead th {\n",
       "        text-align: right;\n",
       "    }\n",
       "</style>\n",
       "<table border=\"1\" class=\"dataframe\">\n",
       "  <thead>\n",
       "    <tr style=\"text-align: right;\">\n",
       "      <th></th>\n",
       "      <th>label</th>\n",
       "      <th>습도</th>\n",
       "    </tr>\n",
       "  </thead>\n",
       "  <tbody>\n",
       "    <tr>\n",
       "      <th>count</th>\n",
       "      <td>1.847103e+07</td>\n",
       "      <td>1.847103e+07</td>\n",
       "    </tr>\n",
       "    <tr>\n",
       "      <th>mean</th>\n",
       "      <td>9.402834e-04</td>\n",
       "      <td>2.760722e+01</td>\n",
       "    </tr>\n",
       "    <tr>\n",
       "      <th>std</th>\n",
       "      <td>3.064962e-02</td>\n",
       "      <td>3.576528e+01</td>\n",
       "    </tr>\n",
       "    <tr>\n",
       "      <th>min</th>\n",
       "      <td>0.000000e+00</td>\n",
       "      <td>0.000000e+00</td>\n",
       "    </tr>\n",
       "    <tr>\n",
       "      <th>25%</th>\n",
       "      <td>0.000000e+00</td>\n",
       "      <td>0.000000e+00</td>\n",
       "    </tr>\n",
       "    <tr>\n",
       "      <th>50%</th>\n",
       "      <td>0.000000e+00</td>\n",
       "      <td>0.000000e+00</td>\n",
       "    </tr>\n",
       "    <tr>\n",
       "      <th>75%</th>\n",
       "      <td>0.000000e+00</td>\n",
       "      <td>6.300000e+01</td>\n",
       "    </tr>\n",
       "    <tr>\n",
       "      <th>max</th>\n",
       "      <td>1.000000e+00</td>\n",
       "      <td>1.000000e+02</td>\n",
       "    </tr>\n",
       "  </tbody>\n",
       "</table>\n",
       "</div>"
      ],
      "text/plain": [
       "              label            습도\n",
       "count  1.847103e+07  1.847103e+07\n",
       "mean   9.402834e-04  2.760722e+01\n",
       "std    3.064962e-02  3.576528e+01\n",
       "min    0.000000e+00  0.000000e+00\n",
       "25%    0.000000e+00  0.000000e+00\n",
       "50%    0.000000e+00  0.000000e+00\n",
       "75%    0.000000e+00  6.300000e+01\n",
       "max    1.000000e+00  1.000000e+02"
      ]
     },
     "execution_count": 13,
     "metadata": {},
     "output_type": "execute_result"
    }
   ],
   "source": [
    "# relative humidity\n",
    "df_hm = combined_parts.dropna(subset=['습도'])\n",
    "df_des = df_hm[['label','습도']]\n",
    "df_des.describe()\n"
   ]
  },
  {
   "cell_type": "code",
   "execution_count": 14,
   "id": "e7986244",
   "metadata": {},
   "outputs": [
    {
     "data": {
      "text/plain": [
       "<AxesSubplot:xlabel='label', ylabel='습도'>"
      ]
     },
     "execution_count": 14,
     "metadata": {},
     "output_type": "execute_result"
    },
    {
     "data": {
      "image/png": "[encoded data removed]",
      "text/plain": [
       "<Figure size 432x288 with 1 Axes>"
      ]
     },
     "metadata": {
      "needs_background": "light"
     },
     "output_type": "display_data"
    }
   ],
   "source": [
    "sns.boxplot(x='label', y='습도', hue='label', data = df_hm, palette = 'Set3')"
   ]
  },
  {
   "cell_type": "markdown",
   "id": "89d17fb2",
   "metadata": {},
   "source": [
    "### 정규성 확인"
   ]
  },
  {
   "cell_type": "code",
   "execution_count": 15,
   "id": "e754472d",
   "metadata": {},
   "outputs": [
    {
     "data": {
      "text/plain": [
       "KstestResult(statistic=0.496, pvalue=9.301646788241219e-228)"
      ]
     },
     "execution_count": 15,
     "metadata": {},
     "output_type": "execute_result"
    }
   ],
   "source": [
    "ks_2samp(df_des[df_des['label']==0]['습도'], x)"
   ]
  },
  {
   "cell_type": "code",
   "execution_count": 16,
   "id": "b765806f",
   "metadata": {},
   "outputs": [
    {
     "data": {
      "text/plain": [
       "KstestResult(statistic=0.496, pvalue=1.7343780549784067e-215)"
      ]
     },
     "execution_count": 16,
     "metadata": {},
     "output_type": "execute_result"
    }
   ],
   "source": [
    "ks_2samp(df_des[df_des['label']==1]['습도'], x)"
   ]
  },
  {
   "cell_type": "markdown",
   "id": "85dafd8f",
   "metadata": {},
   "source": [
    "- 정규성을 띄지 않아 Mann-Whitny rank test 진행"
   ]
  },
  {
   "cell_type": "code",
   "execution_count": 18,
   "id": "49da202f",
   "metadata": {},
   "outputs": [
    {
     "data": {
      "text/plain": [
       "0.000"
      ]
     },
     "execution_count": 18,
     "metadata": {},
     "output_type": "execute_result"
    }
   ],
   "source": [
    "u, p = stats.mannwhitneyu(df_hm[df_hm['label']==1]['습도'], df_hm[df_hm['label']==0]['습도'],alternative='two-sided')\n",
    "p"
   ]
  },
  {
   "cell_type": "markdown",
   "id": "718901b4",
   "metadata": {},
   "source": [
    "***산불 발생 유무에 따른 상대습도의 중앙값에 대해 차이가 유의수준 .005 이하에서 유의하다***"
   ]
  },
  {
   "cell_type": "markdown",
   "id": "91734f51",
   "metadata": {},
   "source": [
    "## 실효습도 기술통계"
   ]
  },
  {
   "cell_type": "code",
   "execution_count": 20,
   "id": "90646dce",
   "metadata": {},
   "outputs": [
    {
     "data": {
      "text/html": [
       "<div>\n",
       "<style scoped>\n",
       "    .dataframe tbody tr th:only-of-type {\n",
       "        vertical-align: middle;\n",
       "    }\n",
       "\n",
       "    .dataframe tbody tr th {\n",
       "        vertical-align: top;\n",
       "    }\n",
       "\n",
       "    .dataframe thead th {\n",
       "        text-align: right;\n",
       "    }\n",
       "</style>\n",
       "<table border=\"1\" class=\"dataframe\">\n",
       "  <thead>\n",
       "    <tr style=\"text-align: right;\">\n",
       "      <th></th>\n",
       "      <th>label</th>\n",
       "      <th>실효습도</th>\n",
       "    </tr>\n",
       "  </thead>\n",
       "  <tbody>\n",
       "    <tr>\n",
       "      <th>0</th>\n",
       "      <td>0</td>\n",
       "      <td>62.70</td>\n",
       "    </tr>\n",
       "    <tr>\n",
       "      <th>1</th>\n",
       "      <td>0</td>\n",
       "      <td>62.70</td>\n",
       "    </tr>\n",
       "    <tr>\n",
       "      <th>2</th>\n",
       "      <td>0</td>\n",
       "      <td>62.70</td>\n",
       "    </tr>\n",
       "    <tr>\n",
       "      <th>3</th>\n",
       "      <td>0</td>\n",
       "      <td>62.70</td>\n",
       "    </tr>\n",
       "    <tr>\n",
       "      <th>4</th>\n",
       "      <td>0</td>\n",
       "      <td>62.70</td>\n",
       "    </tr>\n",
       "    <tr>\n",
       "      <th>...</th>\n",
       "      <td>...</td>\n",
       "      <td>...</td>\n",
       "    </tr>\n",
       "    <tr>\n",
       "      <th>20484839</th>\n",
       "      <td>0</td>\n",
       "      <td>54.27</td>\n",
       "    </tr>\n",
       "    <tr>\n",
       "      <th>20484840</th>\n",
       "      <td>0</td>\n",
       "      <td>61.35</td>\n",
       "    </tr>\n",
       "    <tr>\n",
       "      <th>20484841</th>\n",
       "      <td>0</td>\n",
       "      <td>64.00</td>\n",
       "    </tr>\n",
       "    <tr>\n",
       "      <th>20484842</th>\n",
       "      <td>0</td>\n",
       "      <td>64.21</td>\n",
       "    </tr>\n",
       "    <tr>\n",
       "      <th>20484843</th>\n",
       "      <td>0</td>\n",
       "      <td>66.57</td>\n",
       "    </tr>\n",
       "  </tbody>\n",
       "</table>\n",
       "<p>20473046 rows × 2 columns</p>\n",
       "</div>"
      ],
      "text/plain": [
       "          label   실효습도\n",
       "0             0  62.70\n",
       "1             0  62.70\n",
       "2             0  62.70\n",
       "3             0  62.70\n",
       "4             0  62.70\n",
       "...         ...    ...\n",
       "20484839      0  54.27\n",
       "20484840      0  61.35\n",
       "20484841      0  64.00\n",
       "20484842      0  64.21\n",
       "20484843      0  66.57\n",
       "\n",
       "[20473046 rows x 2 columns]"
      ]
     },
     "execution_count": 20,
     "metadata": {},
     "output_type": "execute_result"
    }
   ],
   "source": [
    "# effective humidity\n",
    "df_efhm = combined_parts.dropna(subset=['실효습도'])\n",
    "df_des = df_efhm[['label','실효습도']]\n",
    "df_des\n"
   ]
  },
  {
   "cell_type": "code",
   "execution_count": 21,
   "id": "dcd01936",
   "metadata": {},
   "outputs": [
    {
     "data": {
      "text/plain": [
       "<AxesSubplot:xlabel='label', ylabel='실효습도'>"
      ]
     },
     "execution_count": 21,
     "metadata": {},
     "output_type": "execute_result"
    },
    {
     "data": {
      "image/png": "[encoded data removed]",
      "text/plain": [
       "<Figure size 432x288 with 1 Axes>"
      ]
     },
     "metadata": {
      "needs_background": "light"
     },
     "output_type": "display_data"
    }
   ],
   "source": [
    "sns.boxplot(x='label', y='실효습도', hue='label', data = df_efhm, palette = 'Set3')"
   ]
  },
  {
   "cell_type": "markdown",
   "id": "2405d714",
   "metadata": {},
   "source": [
    "### 정규성 확인"
   ]
  },
  {
   "cell_type": "code",
   "execution_count": 22,
   "id": "5b934c84",
   "metadata": {},
   "outputs": [
    {
     "data": {
      "text/plain": [
       "KstestResult(statistic=0.9996990190544016, pvalue=0.0)"
      ]
     },
     "execution_count": 22,
     "metadata": {},
     "output_type": "execute_result"
    }
   ],
   "source": [
    "ks_2samp(df_des[df_des['label']==0]['실효습도'], x)"
   ]
  },
  {
   "cell_type": "code",
   "execution_count": 23,
   "id": "7692476f",
   "metadata": {},
   "outputs": [
    {
     "data": {
      "text/plain": [
       "KstestResult(statistic=1.0, pvalue=0.0)"
      ]
     },
     "execution_count": 23,
     "metadata": {},
     "output_type": "execute_result"
    }
   ],
   "source": [
    "ks_2samp(df_des[df_des['label']==1]['실효습도'], x)"
   ]
  },
  {
   "cell_type": "markdown",
   "id": "df14982c",
   "metadata": {},
   "source": [
    "- 정규성을 띄지 않아 Mann-Whitny rank test 진행"
   ]
  },
  {
   "cell_type": "code",
   "execution_count": 24,
   "id": "9d1d0542",
   "metadata": {},
   "outputs": [
    {
     "data": {
      "text/plain": [
       "0.000"
      ]
     },
     "execution_count": 24,
     "metadata": {},
     "output_type": "execute_result"
    }
   ],
   "source": [
    "u, p = stats.mannwhitneyu(df_efhm[df_efhm['label']==1]['실효습도'], df_efhm[df_efhm['label']==0]['실효습도'],alternative='two-sided')\n",
    "p"
   ]
  },
  {
   "cell_type": "markdown",
   "id": "8ee6200e",
   "metadata": {},
   "source": [
    "***산불 발생 유무에 따른 풍속의 중앙값에 대해 차이가 유의수준 .005 이하에서 유의하다***"
   ]
  },
  {
   "cell_type": "markdown",
   "id": "1c2bb669",
   "metadata": {},
   "source": [
    "### Result\n",
    "- 모든 수치형 데이터에 대해 산불이 발생한 사건의 기상 데이터와 발생하지 않은 사건 집단 사이에는 각 기상 수치들의 중앙값에 유의한 차이가 있다고 결론 내릴 수 있다."
   ]
  },
  {
   "cell_type": "code",
   "execution_count": null,
   "id": "2cc1acf9",
   "metadata": {},
   "outputs": [],
   "source": []
  }
 ],
 "metadata": {
  "kernelspec": {
   "display_name": "Python 3 (ipykernel)",
   "language": "python",
   "name": "python3"
  },
  "language_info": {
   "codemirror_mode": {
    "name": "ipython",
    "version": 3
   },
   "file_extension": ".py",
   "mimetype": "text/x-python",
   "name": "python",
   "nbconvert_exporter": "python",
   "pygments_lexer": "ipython3",
   "version": "3.8.13"
  }
 },
 "nbformat": 4,
 "nbformat_minor": 5
}
