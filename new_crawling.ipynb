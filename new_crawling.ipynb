{
 "cells": [
  {
   "cell_type": "code",
   "execution_count": 1,
   "id": "a39a5071",
   "metadata": {},
   "outputs": [],
   "source": [
    "import pandas as pd\n",
    "import requests, json\n",
    "from datetime import date, timedelta\n",
    "from collections import defaultdict\n",
    "import xml.etree.ElementTree as ET\n",
    "from math import dist"
   ]
  },
  {
   "cell_type": "code",
   "execution_count": 12,
   "id": "6625cd27",
   "metadata": {},
   "outputs": [],
   "source": [
    "pageNo = 3\n",
    "date_pairs = [('20070101','20070430'), ('20071001','20071231'), ('20080101','20080430'), ('20081001','20081231'),\n",
    "             ('20090101','20090430'), ('20091001', '20091231')]\n",
    "point_list = ['90', '105', '106', '216']"
   ]
  },
  {
   "cell_type": "code",
   "execution_count": 13,
   "id": "046be180",
   "metadata": {},
   "outputs": [],
   "source": [
    "KEY = 'XFvzJWgUESMIABoVtfrlH/5UAPe0XlfdQL4aWwGW3PRP7nglPl6l5gbtu9YikPPPpECveIjH0YwuXi9ZccGTcA=='\n",
    "url = 'http://apis.data.go.kr/1360000/AsosHourlyInfoService/getWthrDataList'\n",
    "result_a = []\n",
    "# 지점 먼저 정하고\n",
    "for point in point_list:\n",
    "    \n",
    "    # 날짜 기간 별로\n",
    "    for date_pair in date_pairs:\n",
    "        \n",
    "        # 대략 3페이지에 다 끌어올 수 있음\n",
    "        for i in range(pageNo):\n",
    "\n",
    "            params ={'serviceKey' : 'XFvzJWgUESMIABoVtfrlH/5UAPe0XlfdQL4aWwGW3PRP7nglPl6l5gbtu9YikPPPpECveIjH0YwuXi9ZccGTcA==', 'pageNo' : i+1, 'numOfRows' : '999', 'dataType' : 'XML', 'dataCd' : 'ASOS', 'dateCd' : 'HR', 'startDt' : date_pair[0], 'startHh' : '00', 'endDt' : date_pair[1], 'endHh' : '23', 'stnIds' : point }\n",
    "\n",
    "            response = requests.get(url, params=params)\n",
    "            root = ET.fromstring(response.text)\n",
    "            result=[]\n",
    "\n",
    "            for node in root.iter('item'):\n",
    "                rows = defaultdict(list)\n",
    "                for i in node:\n",
    "                    rows[i.tag] = i.text\n",
    "                result.append(rows)\n",
    "\n",
    "\n",
    "            for j in result:\n",
    "                sa=dict(j)\n",
    "                result_a.append(sa)\n",
    "\n",
    "\n",
    "sd = pd.DataFrame(result_a, columns=result_a[0].keys())\n",
    "sd.to_csv('new_sample.csv')"
   ]
  },
  {
   "cell_type": "code",
   "execution_count": 14,
   "id": "5a4ca526",
   "metadata": {},
   "outputs": [],
   "source": [
    "# 양양은 실효습도 추가 못해서 패스\n",
    "# 셀레니움으로 자동화\n",
    "from selenium import webdriver\n",
    "from selenium.webdriver.chrome.service import Service\n",
    "from webdriver_manager.chrome import ChromeDriverManager\n",
    "from selenium.webdriver.common.by import By"
   ]
  },
  {
   "cell_type": "code",
   "execution_count": 15,
   "id": "3719bf68",
   "metadata": {},
   "outputs": [],
   "source": [
    "def get_chrome_driver():\n",
    "    # 1. 크롬 옵션 세팅\n",
    "    chrome_options = webdriver.ChromeOptions()\n",
    "    \n",
    "    # 2. driver 생성하기\n",
    "    driver = webdriver.Chrome(\n",
    "        service=Service(ChromeDriverManager().install()), # 가장 많이 바뀐 부분\n",
    "        options=chrome_options\n",
    "    )\n",
    "    \n",
    "    return driver"
   ]
  },
  {
   "cell_type": "code",
   "execution_count": 98,
   "id": "2354abf9",
   "metadata": {},
   "outputs": [
    {
     "name": "stderr",
     "output_type": "stream",
     "text": [
      "\n",
      "\n",
      "====== WebDriver manager ======\n",
      "Current google-chrome version is 103.0.5060\n",
      "Get LATEST chromedriver version for 103.0.5060 google-chrome\n",
      "Driver [C:\\Users\\yujeyeong\\.wdm\\drivers\\chromedriver\\win32\\103.0.5060.53\\chromedriver.exe] found in cache\n"
     ]
    }
   ],
   "source": [
    "driver = get_chrome_driver()"
   ]
  },
  {
   "cell_type": "code",
   "execution_count": 99,
   "id": "b5798483",
   "metadata": {},
   "outputs": [],
   "source": [
    "driver.get(\"https://data.kma.go.kr/climate/ehum/selectEhumChart.do?pgmNo=110\")\n",
    "from time import sleep"
   ]
  },
  {
   "cell_type": "code",
   "execution_count": 100,
   "id": "74ae9559",
   "metadata": {},
   "outputs": [],
   "source": [
    "articles = driver.find_element(\n",
    "    By.CSS_SELECTOR,\n",
    "    \"#txtStnNm\"\n",
    ").click()\n",
    "sleep(1)\n"
   ]
  },
  {
   "cell_type": "code",
   "execution_count": 101,
   "id": "e940f187",
   "metadata": {},
   "outputs": [],
   "source": [
    "\n",
    "articles = driver.find_element(\n",
    "    By.CSS_SELECTOR,\n",
    "    \"#ztree_26_switch\"\n",
    ").click()\n",
    "sleep(1)"
   ]
  },
  {
   "cell_type": "code",
   "execution_count": 102,
   "id": "b85d1f3a",
   "metadata": {},
   "outputs": [],
   "source": [
    "articles = driver.find_element(\n",
    "    By.CSS_SELECTOR,\n",
    "    \"#ztree_33_check\"\n",
    ").click()\n",
    "sleep(1)"
   ]
  },
  {
   "cell_type": "code",
   "execution_count": 103,
   "id": "ab93d0ce",
   "metadata": {},
   "outputs": [],
   "source": [
    "articles = driver.find_element(\n",
    "    By.CSS_SELECTOR,\n",
    "    \"#ztree_27_check\"\n",
    ").click()\n",
    "articles = driver.find_element(\n",
    "    By.CSS_SELECTOR,\n",
    "    \"#ztree_29_check\"\n",
    ").click()\n",
    "articles = driver.find_element(\n",
    "    By.CSS_SELECTOR,\n",
    "    \"#ztree_40_check\"\n",
    ").click()\n"
   ]
  },
  {
   "cell_type": "code",
   "execution_count": 104,
   "id": "42ea0b25",
   "metadata": {},
   "outputs": [],
   "source": [
    "articles = driver.find_element(\n",
    "    By.CSS_SELECTOR,\n",
    "    \"#sidetreecontrol > a\"\n",
    ").click()\n",
    "\n"
   ]
  },
  {
   "cell_type": "code",
   "execution_count": 105,
   "id": "39b9d817",
   "metadata": {},
   "outputs": [],
   "source": [
    "# articles = driver.find_element(\n",
    "#     By.CSS_SELECTOR,\n",
    "#     \"#startDt\"\n",
    "# ).clear()\n",
    "# articles = driver.find_element(\n",
    "#     By.CSS_SELECTOR,\n",
    "#     \"#startDt\"\n",
    "# ).send_keys(\"20070101\")\n"
   ]
  },
  {
   "cell_type": "code",
   "execution_count": 106,
   "id": "a547f4d8",
   "metadata": {},
   "outputs": [],
   "source": [
    "for year in [\"2007\", \"2008\", \"2009\"]:\n",
    "    for month in [\"01\", \"02\", \"03\", \"04\", \"10\", \"11\", \"12\"]:\n",
    "        if month == \"02\":\n",
    "            for day in range(1,29):\n",
    "                day_text=day\n",
    "                if day < 10:\n",
    "                    day_text = \"0\"+str(day)\n",
    "                else:\n",
    "                    day_text = str(day)\n",
    "                driver.find_element(\n",
    "                    By.CSS_SELECTOR,\n",
    "                    \"#startDt\"\n",
    "                ).clear()\n",
    "                driver.find_element(\n",
    "                    By.CSS_SELECTOR,\n",
    "                    \"#startDt\"\n",
    "                ).send_keys(year+month+day_text)\n",
    "                driver.find_element(\n",
    "                    By.CSS_SELECTOR,\n",
    "                    \"#wrap_content > div:nth-child(4) > div.hd_itm > div > a.btn_file.DOWNLOAD_BTN\"\n",
    "                ).click()\n",
    "        elif month == \"04\" or month ==\"11\":\n",
    "            for day in range(1,31):\n",
    "                day_text=day\n",
    "                if day < 10:\n",
    "                    day_text = \"0\"+str(day)\n",
    "                else:\n",
    "                    day_text = str(day)\n",
    "                driver.find_element(\n",
    "                    By.CSS_SELECTOR,\n",
    "                    \"#startDt\"\n",
    "                ).clear()\n",
    "                driver.find_element(\n",
    "                    By.CSS_SELECTOR,\n",
    "                    \"#startDt\"\n",
    "                ).send_keys(year+month+day_text)\n",
    "                driver.find_element(\n",
    "                    By.CSS_SELECTOR,\n",
    "                    \"#wrap_content > div:nth-child(4) > div.hd_itm > div > a.btn_file.DOWNLOAD_BTN\"\n",
    "                ).click()\n",
    "        else:\n",
    "            for day in range(1,32):\n",
    "                day_text=day\n",
    "                if day < 10:\n",
    "                    day_text = \"0\"+str(day)\n",
    "                else:\n",
    "                    day_text = str(day)\n",
    "                driver.find_element(\n",
    "                    By.CSS_SELECTOR,\n",
    "                    \"#startDt\"\n",
    "                ).clear()\n",
    "                driver.find_element(\n",
    "                    By.CSS_SELECTOR,\n",
    "                    \"#startDt\"\n",
    "                ).send_keys(year+month+day_text)\n",
    "                driver.find_element(\n",
    "                    By.CSS_SELECTOR,\n",
    "                    \"#wrap_content > div:nth-child(4) > div.hd_itm > div > a.btn_file.DOWNLOAD_BTN\"\n",
    "                ).click()"
   ]
  },
  {
   "cell_type": "code",
   "execution_count": 96,
   "id": "7593e1aa",
   "metadata": {},
   "outputs": [],
   "source": [
    "# articles = driver.find_element(\n",
    "#     By.CSS_SELECTOR,\n",
    "#     \"#wrap_content > div:nth-child(4) > div.hd_itm > div > a.btn_file.DOWNLOAD_BTN\"\n",
    "# ).click()"
   ]
  },
  {
   "cell_type": "code",
   "execution_count": 107,
   "id": "437a5f4c",
   "metadata": {},
   "outputs": [],
   "source": [
    "driver.quit()"
   ]
  },
  {
   "cell_type": "code",
   "execution_count": null,
   "id": "53be5fe5",
   "metadata": {},
   "outputs": [],
   "source": []
  }
 ],
 "metadata": {
  "kernelspec": {
   "display_name": "Python 3 (ipykernel)",
   "language": "python",
   "name": "python3"
  },
  "language_info": {
   "codemirror_mode": {
    "name": "ipython",
    "version": 3
   },
   "file_extension": ".py",
   "mimetype": "text/x-python",
   "name": "python",
   "nbconvert_exporter": "python",
   "pygments_lexer": "ipython3",
   "version": "3.8.13"
  }
 },
 "nbformat": 4,
 "nbformat_minor": 5
}
